{
 "cells": [
  {
   "cell_type": "markdown",
   "metadata": {},
   "source": [
    "_Alex Malz (NYU)_\n",
    "_(Add your name here when contributing.)_\n",
    "\n",
    "_Christian Setzer (Stockholm University)_\n",
    "\n",
    "\n",
    "# PRObabilistic CLAssification Metrics\n",
    "\n",
    "This notebook explores the behavior of a number of classification metrics, drawn from [discussions](https://docs.google.com/document/d/1pg0KUY0KihjlWKwoCE7Fc29u9pjv-fhwUnL8o34s58k/edit#) in the context of PLAsTiCC."
   ]
  },
  {
   "cell_type": "markdown",
   "metadata": {},
   "source": [
    "Many classification metrics are already implemented in [`scikit-learn`](http://scikit-learn.org/stable/modules/model_evaluation.html#classification-metrics)."
   ]
  },
  {
   "cell_type": "code",
   "execution_count": 43,
   "metadata": {},
   "outputs": [],
   "source": [
    "import sklearn as skl\n",
    "import numpy as np\n",
    "import matplotlib.pyplot as plt"
   ]
  },
  {
   "cell_type": "markdown",
   "metadata": {},
   "source": [
    "Define the true classes for each object and the corresponding classifier results that will be used in this notebook"
   ]
  },
  {
   "cell_type": "code",
   "execution_count": 45,
   "metadata": {},
   "outputs": [],
   "source": [
    "# Binary Class Mock Data \n",
    "\n",
    "# Define binary labels for true class of data\n",
    "binary_true_class = np.array([0,0,1,1,0,1,0,0,1,0,1,1,0])\n",
    "\n",
    "# Define target scores, probability of the positive (class == 1) class\n",
    "# in the binary classification scenario\n",
    "binary_scores = np.array([0.1,0.4,0.35,0.8,0.2,0.9,0.15,0.3,0.75,0.6,0.5,0.8,0.4])\n"
   ]
  },
  {
   "cell_type": "markdown",
   "metadata": {},
   "source": [
    "# Receiver Operating Curve (ROC) and ROC Area Under Curve (AUC)\n",
    "\n",
    "[on Wikipedia](https://en.wikipedia.org/wiki/Receiver_operating_characteristic)\n",
    "### ROC\n",
    "Pros\n",
    "* Works with multi-label data\n",
    "\n",
    "Cons\n",
    "* Doesn't naturally work with multi-class data\n",
    "* Need results from classifier in a probabilistic format"
   ]
  },
  {
   "cell_type": "code",
   "execution_count": 42,
   "metadata": {},
   "outputs": [],
   "source": [
    "from sklearn.metrics import roc_curve\n",
    "\n",
    "# Pass true classes and classifier scores, to roc function to return \n",
    "# false postive rate, true positive rate and associated threshold values\n",
    "false_pr, true_pr, thresholds = roc_curve(binary_true_class,binary_scores)\n",
    "\n",
    "# Show the results of computation from ROC funciton \n",
    "# Useful for comparison to online examples\n",
    "#print(false_pr)\n",
    "#print(true_pr)\n",
    "#print(thresholds)\n",
    "\n",
    "#Continue Below "
   ]
  },
  {
   "cell_type": "markdown",
   "metadata": {},
   "source": [
    "### AUC\n",
    "Pros\n",
    "* Commonly used\n",
    "\n",
    "Cons\n",
    "* Not good for sparse classes\n",
    "* \"Noisy\" metric"
   ]
  },
  {
   "cell_type": "code",
   "execution_count": 49,
   "metadata": {},
   "outputs": [
    {
     "data": {
      "image/png": "[encoded data removed]",
      "text/plain": [
       "<matplotlib.figure.Figure at 0x1a1345b898>"
      ]
     },
     "metadata": {},
     "output_type": "display_data"
    }
   ],
   "source": [
    "from sklearn.metrics import roc_auc_score\n",
    "\n",
    "auc = roc_auc_score(true_class,scores)\n",
    "\n",
    "# Output the AUC\n",
    "#print(auc)\n",
    "\n",
    "# Simple plot of the resulting ROC curve with associated AUC\n",
    "plt.figure()\n",
    "plt.plot(false_pr,true_pr,label='ROC curve (area = %0.4f)' %auc)\n",
    "plt.xlabel('False Positive Rate')\n",
    "plt.ylabel('True Positive Rate')\n",
    "plt.title('Receiver operating characteristic example')\n",
    "plt.legend(loc=\"lower right\")\n",
    "plt.show()"
   ]
  },
  {
   "cell_type": "markdown",
   "metadata": {},
   "source": [
    "### Standard Score (zROC)\n",
    "\n",
    "[on Wikipedia](https://en.wikipedia.org/wiki/Standard_score)\n",
    "\n",
    "Pros\n",
    "\n",
    "Cons\n",
    "* Not implemented in `scikit-learn`"
   ]
  },
  {
   "cell_type": "code",
   "execution_count": 4,
   "metadata": {},
   "outputs": [],
   "source": [
    "# write it!"
   ]
  },
  {
   "cell_type": "markdown",
   "metadata": {},
   "source": [
    "### Detection Error Tradeoff (DET) Graph\n",
    "\n",
    "[on Wikipedia](https://en.wikipedia.org/wiki/Detection_error_tradeoff)\n",
    "\n",
    "Pros\n",
    "* More sensitive to areas of interest than ROC\n",
    "\n",
    "Cons\n",
    "* Not implemented in `scikit-learn`"
   ]
  },
  {
   "cell_type": "code",
   "execution_count": 5,
   "metadata": {},
   "outputs": [],
   "source": [
    "# write it!"
   ]
  },
  {
   "cell_type": "markdown",
   "metadata": {},
   "source": [
    "## Log-Loss\n",
    "\n",
    "[on Wikipedia](https://en.wikipedia.org/wiki/Loss_functions_for_classification)\n",
    "\n",
    "The Log-loss metric outputs a value that is meant to be minimized. A perfect\n",
    "classifier would have  `log-loss = 0`. A perfectly random classifier would have `log-loss = log(number_classes)`\n",
    "\n",
    "Pros\n",
    "* `scikit-learn` implementation works with multi-class data\n",
    "\n",
    "Cons\n",
    "* Doesn't naturally work with multi-class data (Christian: I disagree on this point) "
   ]
  },
  {
   "cell_type": "code",
   "execution_count": 60,
   "metadata": {},
   "outputs": [
    {
     "name": "stdout",
     "output_type": "stream",
     "text": [
      "0.4129\n"
     ]
    }
   ],
   "source": [
    "from sklearn.metrics import log_loss\n",
    "\n",
    "# Compute the log loss value for the binary class case\n",
    "# Normalize = True gives log-loss average per sample (this is the default)\n",
    "binary_log_loss = log_loss(binary_true_class,binary_scores, normalize=True)\n",
    "\n",
    "# Print out the resulting mean log loss value per sample for evaultion against\n",
    "# the results of other classifiers\n",
    "print('%0.4f' %binary_log_loss)"
   ]
  },
  {
   "cell_type": "markdown",
   "metadata": {},
   "source": [
    "## Brier score\n",
    "\n",
    "[on Wikipedia](https://en.wikipedia.org/wiki/Brier_score)\n",
    "\n",
    "Pros\n",
    "* Naturally works with multi-class data\n",
    "* Intuitively interpretable\n",
    "\n",
    "Cons\n",
    "* `scikit-learn` implementation only works with binary classes"
   ]
  },
  {
   "cell_type": "code",
   "execution_count": 7,
   "metadata": {},
   "outputs": [],
   "source": [
    "from sklearn.metrics import brier_score_loss"
   ]
  },
  {
   "cell_type": "markdown",
   "metadata": {},
   "source": [
    "## Precision-Recall Curve (PRC)\n",
    "\n",
    "[on Wikipedia](https://en.wikipedia.org/wiki/Precision_and_recall)\n",
    "\n",
    "Pros\n",
    "\n",
    "Cons"
   ]
  },
  {
   "cell_type": "code",
   "execution_count": 8,
   "metadata": {},
   "outputs": [],
   "source": [
    "from sklearn.metrics import precision_recall_curve"
   ]
  },
  {
   "cell_type": "markdown",
   "metadata": {},
   "source": [
    "### PRC Area Under Curve (AUC)\n",
    "\n",
    "[not on Wikipedia](https://andybeger.com/2015/03/16/precision-recall-curves/)\n",
    "\n",
    "Pros\n",
    "* Better for sparse data than ROC AUC\n",
    "\n",
    "Cons\n",
    "* Doesn't naturally work with multi-class data"
   ]
  },
  {
   "cell_type": "code",
   "execution_count": 9,
   "metadata": {},
   "outputs": [],
   "source": [
    "from sklearn.metrics import auc"
   ]
  },
  {
   "cell_type": "markdown",
   "metadata": {},
   "source": [
    "### PRC Average Precision Score\n",
    "\n",
    "Pros\n",
    "* Less optimistic than PRC AUC\n",
    "\n",
    "Cons"
   ]
  },
  {
   "cell_type": "code",
   "execution_count": 10,
   "metadata": {},
   "outputs": [],
   "source": [
    "from sklearn.metrics import average_precision_score"
   ]
  },
  {
   "cell_type": "markdown",
   "metadata": {},
   "source": [
    "## Other modifications of deterministic metrics?"
   ]
  },
  {
   "cell_type": "code",
   "execution_count": null,
   "metadata": {},
   "outputs": [],
   "source": []
  },
  {
   "cell_type": "markdown",
   "metadata": {},
   "source": [
    "## Impact of converting classifications from deterministic to probabilistic?"
   ]
  },
  {
   "cell_type": "code",
   "execution_count": null,
   "metadata": {},
   "outputs": [],
   "source": []
  }
 ],
 "metadata": {
  "kernelspec": {
   "display_name": "Python 3",
   "language": "python",
   "name": "python3"
  },
  "language_info": {
   "codemirror_mode": {
    "name": "ipython",
    "version": 3
   },
   "file_extension": ".py",
   "mimetype": "text/x-python",
   "name": "python",
   "nbconvert_exporter": "python",
   "pygments_lexer": "ipython3",
   "version": "3.6.2"
  }
 },
 "nbformat": 4,
 "nbformat_minor": 2
}
