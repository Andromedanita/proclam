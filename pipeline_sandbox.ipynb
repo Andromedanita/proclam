{
 "cells": [
  {
   "cell_type": "markdown",
   "metadata": {},
   "source": [
    "# Testing framework \"pipeline\"\n",
    "\n",
    "_Alex Malz (NYU)_"
   ]
  },
  {
   "cell_type": "code",
   "execution_count": 1,
   "metadata": {
    "collapsed": true
   },
   "outputs": [],
   "source": [
    "import matplotlib.pyplot as plt\n",
    "%matplotlib inline"
   ]
  },
  {
   "cell_type": "code",
   "execution_count": 2,
   "metadata": {
    "collapsed": true
   },
   "outputs": [],
   "source": [
    "import proclam\n",
    "from proclam import *"
   ]
  },
  {
   "cell_type": "markdown",
   "metadata": {},
   "source": [
    "## 1. True classes"
   ]
  },
  {
   "cell_type": "markdown",
   "metadata": {},
   "source": [
    "Import the `proclam.Simulator` superclass and the simulator subclass you want to test.  In this notebook, I'm going to use an unbalanced distribution of true classes such that the probability of an object being in class $m$ (with $0 \\leq m \\leq M$) is proportional to $10^{y}$, where $y$ is a draw from a uniform distribution $U(0,M)$."
   ]
  },
  {
   "cell_type": "code",
   "execution_count": 3,
   "metadata": {
    "collapsed": false
   },
   "outputs": [],
   "source": [
    "from proclam.simulators import simulator\n",
    "from proclam.simulators import logunbalanced"
   ]
  },
  {
   "cell_type": "markdown",
   "metadata": {},
   "source": [
    "Create an instantiation of the simulator for the true dataset class distribution scheme.  If you use the base superclass instead of a subclass, the default scheme will be to assign all objects the same class.\n",
    "\n",
    "Then, simulate a truth catalog.  In this case, there are 3 true classes and 100 objects in the catalog.  The output will be a `numpy.ndarray` with 100 entries, each of which is the index of the class for that catalog member."
   ]
  },
  {
   "cell_type": "code",
   "execution_count": 11,
   "metadata": {
    "collapsed": true
   },
   "outputs": [],
   "source": [
    "A = proclam.simulators.logunbalanced.LogUnbalanced(seed=None)\n",
    "truth = A.simulate(3, 100)"
   ]
  },
  {
   "cell_type": "markdown",
   "metadata": {},
   "source": [
    "We can check that the class distribution is as expected with a histogram of the true classes."
   ]
  },
  {
   "cell_type": "code",
   "execution_count": 12,
   "metadata": {
    "collapsed": false
   },
   "outputs": [
    {
     "data": {
      "text/plain": [
       "<matplotlib.text.Text at 0x108f33438>"
      ]
     },
     "execution_count": 12,
     "metadata": {},
     "output_type": "execute_result"
    },
    {
     "data": {
      "image/png": "[encoded data removed]",
      "text/plain": [
       "<matplotlib.figure.Figure at 0x1089c97f0>"
      ]
     },
     "metadata": {},
     "output_type": "display_data"
    }
   ],
   "source": [
    "import numpy as np\n",
    "d = np.diff(np.unique(truth)).min()\n",
    "left_of_first_bin = truth.min() - float(d)/2\n",
    "right_of_last_bin = truth.max() + float(d)/2\n",
    "plt.hist(truth, np.arange(left_of_first_bin, right_of_last_bin + d, d),log=True)\n",
    "\n",
    "#plt.hist(truth, log=True)\n",
    "plt.ylabel('counts')\n",
    "plt.xlabel('class number')"
   ]
  },
  {
   "cell_type": "markdown",
   "metadata": {},
   "source": [
    "## 2. Mock classifications"
   ]
  },
  {
   "cell_type": "markdown",
   "metadata": {},
   "source": [
    "Import the `proclam.Classifier` superclass and the classifier subclass you want to test.  In this notebook, I'm going to use a very stupid classifier that takes a random guess."
   ]
  },
  {
   "cell_type": "code",
   "execution_count": 13,
   "metadata": {
    "collapsed": true
   },
   "outputs": [],
   "source": [
    "from proclam.classifiers import classifier\n",
    "from proclam.classifiers import guess"
   ]
  },
  {
   "cell_type": "markdown",
   "metadata": {},
   "source": [
    "Create an instantiation of the classifier of a particular scheme.  If you use the base superclass instead of a subclass, the default classification scheme will return the true classes.\n",
    "\n",
    "Then, \"classify\" the \"data.\"  By default, classification results will also include an extra column for \"other\" classes beyond the number in the training set, but in this example let's assume it knows of the 3 classes in the training set without leaving room for additional classes.  The output will be a `numpy.ndarray` with 100 rows and column entries representing each catalog member's posterior probability for being of each class."
   ]
  },
  {
   "cell_type": "code",
   "execution_count": 14,
   "metadata": {
    "collapsed": false
   },
   "outputs": [
    {
     "name": "stdout",
     "output_type": "stream",
     "text": [
      "[[ 0.41368857  0.14627978  0.44003165]\n",
      " [ 0.25999035  0.31818025  0.4218294 ]\n",
      " [ 0.36409463  0.21863031  0.41727506]\n",
      " [ 0.51933625  0.09961009  0.38105366]\n",
      " [ 0.32116854  0.32999308  0.34883838]\n",
      " [ 0.25806189  0.48422116  0.25771695]\n",
      " [ 0.56825858  0.17363462  0.2581068 ]\n",
      " [ 0.30735461  0.68154234  0.01110304]\n",
      " [ 0.30844026  0.31289426  0.37866548]\n",
      " [ 0.22049287  0.11278447  0.66672266]\n",
      " [ 0.59922976  0.29094285  0.10982739]\n",
      " [ 0.49416274  0.09256681  0.41327045]\n",
      " [ 0.52096639  0.12925815  0.34977546]\n",
      " [ 0.47294454  0.25488828  0.27216718]\n",
      " [ 0.05081569  0.06902908  0.88015523]\n",
      " [ 0.14052896  0.50881166  0.35065938]\n",
      " [ 0.10419953  0.22007527  0.6757252 ]\n",
      " [ 0.36720792  0.4232168   0.20957527]\n",
      " [ 0.26267864  0.41346436  0.32385701]\n",
      " [ 0.52074359  0.11056599  0.36869042]\n",
      " [ 0.458301    0.22584059  0.31585842]\n",
      " [ 0.37007688  0.36868317  0.26123995]\n",
      " [ 0.31514635  0.33277581  0.35207784]\n",
      " [ 0.61904223  0.16453921  0.21641856]\n",
      " [ 0.61811129  0.04521755  0.33667116]\n",
      " [ 0.14357389  0.48125016  0.37517595]\n",
      " [ 0.14409557  0.22020376  0.63570067]\n",
      " [ 0.4341908   0.30912763  0.25668157]\n",
      " [ 0.19349095  0.71192302  0.09458602]\n",
      " [ 0.64503522  0.14792346  0.20704132]\n",
      " [ 0.42568743  0.28477077  0.2895418 ]\n",
      " [ 0.49997374  0.28586208  0.21416418]\n",
      " [ 0.06549026  0.39103324  0.5434765 ]\n",
      " [ 0.16771927  0.30882718  0.52345355]\n",
      " [ 0.03209826  0.44153258  0.52636916]\n",
      " [ 0.28979319  0.39377066  0.31643616]\n",
      " [ 0.55486519  0.33288171  0.1122531 ]\n",
      " [ 0.33871584  0.29940854  0.36187562]\n",
      " [ 0.03591298  0.16534564  0.79874138]\n",
      " [ 0.31887131  0.33207067  0.34905802]\n",
      " [ 0.38042337  0.37547615  0.24410047]\n",
      " [ 0.06701511  0.0109938   0.92199109]\n",
      " [ 0.22617881  0.04153678  0.73228441]\n",
      " [ 0.43685746  0.0646452   0.49849734]\n",
      " [ 0.35439025  0.60737523  0.03823451]\n",
      " [ 0.2912369   0.07373011  0.63503299]\n",
      " [ 0.47611615  0.27820944  0.24567441]\n",
      " [ 0.47865753  0.21593828  0.30540419]\n",
      " [ 0.68103847  0.14204592  0.17691562]\n",
      " [ 0.28690161  0.55856552  0.15453286]\n",
      " [ 0.0517828   0.47750757  0.47070963]\n",
      " [ 0.3308938   0.18545396  0.48365224]\n",
      " [ 0.42594481  0.11761407  0.45644111]\n",
      " [ 0.26194424  0.32051467  0.4175411 ]\n",
      " [ 0.53803526  0.2258816   0.23608314]\n",
      " [ 0.33789013  0.03060279  0.63150708]\n",
      " [ 0.47754836  0.27901602  0.24343562]\n",
      " [ 0.18511624  0.57184676  0.243037  ]\n",
      " [ 0.39283944  0.39688818  0.21027239]\n",
      " [ 0.29178857  0.04128077  0.66693066]\n",
      " [ 0.51007567  0.01006177  0.47986256]\n",
      " [ 0.3452474   0.05041193  0.60434067]\n",
      " [ 0.20744886  0.70131495  0.09123619]\n",
      " [ 0.07408299  0.49770299  0.42821401]\n",
      " [ 0.36972853  0.50166274  0.12860873]\n",
      " [ 0.49102829  0.49170462  0.0172671 ]\n",
      " [ 0.11502034  0.38491743  0.50006223]\n",
      " [ 0.3279829   0.18679564  0.48522147]\n",
      " [ 0.27384362  0.40115879  0.32499759]\n",
      " [ 0.24430887  0.19884853  0.5568426 ]\n",
      " [ 0.06748774  0.55710324  0.37540902]\n",
      " [ 0.13417703  0.27960328  0.58621969]\n",
      " [ 0.33354084  0.36330417  0.30315499]\n",
      " [ 0.18707062  0.21257949  0.60034989]\n",
      " [ 0.43513077  0.13051702  0.43435221]\n",
      " [ 0.36351686  0.39167778  0.24480537]\n",
      " [ 0.24047789  0.35329488  0.40622723]\n",
      " [ 0.1956315   0.57030904  0.23405946]\n",
      " [ 0.35010486  0.30005681  0.34983833]\n",
      " [ 0.53913973  0.4484023   0.01245798]\n",
      " [ 0.35332535  0.30984083  0.33683382]\n",
      " [ 0.30463208  0.05307176  0.64229616]\n",
      " [ 0.06054461  0.30898756  0.63046783]\n",
      " [ 0.21742224  0.24173498  0.54084277]\n",
      " [ 0.40158845  0.14534531  0.45306624]\n",
      " [ 0.51829971  0.23391104  0.24778925]\n",
      " [ 0.21917254  0.19525545  0.585572  ]\n",
      " [ 0.14407948  0.3966923   0.45922823]\n",
      " [ 0.43121927  0.51044633  0.0583344 ]\n",
      " [ 0.09624395  0.21496344  0.68879262]\n",
      " [ 0.06551187  0.41835582  0.51613231]\n",
      " [ 0.26415209  0.37144741  0.36440049]\n",
      " [ 0.55267364  0.02328852  0.42403784]\n",
      " [ 0.08376385  0.30047643  0.61575972]\n",
      " [ 0.14253214  0.19298828  0.66447958]\n",
      " [ 0.21300942  0.46258457  0.32440601]\n",
      " [ 0.22418305  0.71723424  0.05858271]\n",
      " [ 0.49115974  0.23793875  0.27090151]\n",
      " [ 0.35143155  0.45316854  0.19539992]\n",
      " [ 0.46268022  0.30128193  0.23603785]]\n"
     ]
    }
   ],
   "source": [
    "B = proclam.classifiers.guess.Guess(seed=None)\n",
    "prediction = B.classify(3, truth, other=False)\n",
    "print(prediction)"
   ]
  },
  {
   "cell_type": "markdown",
   "metadata": {},
   "source": [
    "## 3. Metric values"
   ]
  },
  {
   "cell_type": "markdown",
   "metadata": {},
   "source": [
    "Import the `proclam.Metric` superclass and the metric subclass you want to test.  I haven't implemented any `Metric` subclasses yet, so we'll have to make do with the base superclass."
   ]
  },
  {
   "cell_type": "code",
   "execution_count": 15,
   "metadata": {
    "collapsed": true
   },
   "outputs": [],
   "source": [
    "from proclam.metrics import metric"
   ]
  },
  {
   "cell_type": "markdown",
   "metadata": {},
   "source": [
    "Create an instantiation of the metric.  The default behavior of the base superclass is to take the maximum probability class as the true class and calculate an accuracy, equally weighting over all catalog members.\n",
    "\n",
    "Then, calculate the metric value."
   ]
  },
  {
   "cell_type": "code",
   "execution_count": 16,
   "metadata": {
    "collapsed": false
   },
   "outputs": [
    {
     "name": "stdout",
     "output_type": "stream",
     "text": [
      "No metric specified: returning true positive rate based on maximum value\n",
      "0.01\n"
     ]
    }
   ],
   "source": [
    "C = proclam.metrics.metric.Metric()\n",
    "performance = C.evaluate(prediction, truth)\n",
    "print(performance)"
   ]
  },
  {
   "cell_type": "markdown",
   "metadata": {},
   "source": [
    "# Next steps"
   ]
  },
  {
   "cell_type": "markdown",
   "metadata": {},
   "source": [
    "Once there are more simulators, classifiers, and metrics, we'll loop over tests and plot comparisons.  Stay tuned for more!"
   ]
  },
  {
   "cell_type": "code",
   "execution_count": null,
   "metadata": {
    "collapsed": true
   },
   "outputs": [],
   "source": []
  }
 ],
 "metadata": {
  "anaconda-cloud": {},
  "kernelspec": {
   "display_name": "Python [python3]",
   "language": "python",
   "name": "Python [python3]"
  },
  "language_info": {
   "codemirror_mode": {
    "name": "ipython",
    "version": 3
   },
   "file_extension": ".py",
   "mimetype": "text/x-python",
   "name": "python",
   "nbconvert_exporter": "python",
   "pygments_lexer": "ipython3",
   "version": "3.5.2"
  }
 },
 "nbformat": 4,
 "nbformat_minor": 2
}
