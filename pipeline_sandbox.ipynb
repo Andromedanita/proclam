{
 "cells": [
  {
   "cell_type": "markdown",
   "metadata": {},
   "source": [
    "# Testing framework \"pipeline\"\n",
    "\n",
    "_Alex Malz (NYU)_"
   ]
  },
  {
   "cell_type": "code",
   "execution_count": 1,
   "metadata": {
    "collapsed": true
   },
   "outputs": [],
   "source": [
    "import matplotlib.pyplot as plt\n",
    "%matplotlib inline"
   ]
  },
  {
   "cell_type": "code",
   "execution_count": 2,
   "metadata": {
    "collapsed": true
   },
   "outputs": [],
   "source": [
    "import proclam\n",
    "from proclam import *"
   ]
  },
  {
   "cell_type": "markdown",
   "metadata": {},
   "source": [
    "## 1. True classes"
   ]
  },
  {
   "cell_type": "markdown",
   "metadata": {},
   "source": [
    "Import the `proclam.Simulator` superclass and the simulator subclass you want to test.  In this notebook, I'm going to use an unbalanced distribution of true classes such that the probability of an object being in class $m$ (with $0 \\leq m \\leq M$) is proportional to $10^{y}$, where $y$ is a draw from a uniform distribution $U(0,M)$."
   ]
  },
  {
   "cell_type": "code",
   "execution_count": 3,
   "metadata": {
    "collapsed": false
   },
   "outputs": [],
   "source": [
    "from proclam.simulators import simulator\n",
    "from proclam.simulators import logunbalanced"
   ]
  },
  {
   "cell_type": "markdown",
   "metadata": {},
   "source": [
    "Create an instantiation of the simulator for the true dataset class distribution scheme.  If you use the base superclass instead of a subclass, the default scheme will be to assign all objects the same class.\n",
    "\n",
    "Then, simulate a truth catalog.  In this case, there are 3 true classes and 100 objects in the catalog.  The output will be a `numpy.ndarray` with 100 entries, each of which is the index of the class for that catalog member."
   ]
  },
  {
   "cell_type": "code",
   "execution_count": 11,
   "metadata": {
    "collapsed": true
   },
   "outputs": [],
   "source": [
    "A = proclam.simulators.logunbalanced.LogUnbalanced(seed=None)\n",
    "truth = A.simulate(3, 100)"
   ]
  },
  {
   "cell_type": "markdown",
   "metadata": {},
   "source": [
    "We can check that the class distribution is as expected with a histogram of the true classes."
   ]
  },
  {
   "cell_type": "code",
   "execution_count": 12,
   "metadata": {
    "collapsed": false
   },
   "outputs": [
    {
     "data": {
      "text/plain": [
       "<matplotlib.text.Text at 0x108e34400>"
      ]
     },
     "execution_count": 12,
     "metadata": {},
     "output_type": "execute_result"
    },
    {
     "data": {
      "image/png": "[encoded data removed]",
      "text/plain": [
       "<matplotlib.figure.Figure at 0x1089ae4a8>"
      ]
     },
     "metadata": {},
     "output_type": "display_data"
    }
   ],
   "source": [
    "import numpy as np\n",
    "d = np.diff(np.unique(truth)).min()\n",
    "left_of_first_bin = truth.min() - float(d)/2\n",
    "right_of_last_bin = truth.max() + float(d)/2\n",
    "plt.hist(truth, np.arange(left_of_first_bin, right_of_last_bin + d, d),log=True)\n",
    "\n",
    "#plt.hist(truth, log=True)\n",
    "plt.ylabel('counts')\n",
    "plt.xlabel('class number')"
   ]
  },
  {
   "cell_type": "markdown",
   "metadata": {},
   "source": [
    "## 2. Mock classifications"
   ]
  },
  {
   "cell_type": "markdown",
   "metadata": {},
   "source": [
    "Import the `proclam.Classifier` superclass and the classifier subclass you want to test.  In this notebook, I'm going to use a very stupid classifier that takes a random guess."
   ]
  },
  {
   "cell_type": "code",
   "execution_count": 13,
   "metadata": {
    "collapsed": true
   },
   "outputs": [],
   "source": [
    "from proclam.classifiers import classifier\n",
    "from proclam.classifiers import guess"
   ]
  },
  {
   "cell_type": "markdown",
   "metadata": {},
   "source": [
    "Create an instantiation of the classifier of a particular scheme.  If you use the base superclass instead of a subclass, the default classification scheme will return the true classes.\n",
    "\n",
    "Then, \"classify\" the \"data.\"  By default, classification results will also include an extra column for \"other\" classes beyond the number in the training set, but in this example let's assume it knows of the 3 classes in the training set without leaving room for additional classes.  The output will be a `numpy.ndarray` with 100 rows and column entries representing each catalog member's posterior probability for being of each class."
   ]
  },
  {
   "cell_type": "code",
   "execution_count": 14,
   "metadata": {
    "collapsed": false
   },
   "outputs": [
    {
     "name": "stdout",
     "output_type": "stream",
     "text": [
      "[[ 0.29399155  0.38311672  0.32289173]\n",
      " [ 0.33750765  0.26241723  0.40007512]\n",
      " [ 0.1908342   0.38890714  0.42025866]\n",
      " [ 0.22501625  0.46461061  0.31037314]\n",
      " [ 0.36304264  0.59155755  0.04539982]\n",
      " [ 0.09269394  0.02150968  0.88579638]\n",
      " [ 0.29623897  0.3312077   0.37255333]\n",
      " [ 0.3915204   0.22608603  0.38239357]\n",
      " [ 0.13119027  0.70980192  0.15900781]\n",
      " [ 0.5021685   0.2774049   0.22042661]\n",
      " [ 0.17696742  0.51790298  0.3051296 ]\n",
      " [ 0.47178453  0.01559502  0.51262046]\n",
      " [ 0.28171115  0.28393791  0.43435094]\n",
      " [ 0.4612004   0.24318019  0.29561941]\n",
      " [ 0.48969517  0.04227466  0.46803016]\n",
      " [ 0.66403291  0.20831055  0.12765653]\n",
      " [ 0.25247682  0.29112329  0.4563999 ]\n",
      " [ 0.28685136  0.64640994  0.0667387 ]\n",
      " [ 0.20412182  0.15763742  0.63824076]\n",
      " [ 0.262743    0.48371083  0.25354616]\n",
      " [ 0.17173382  0.11923755  0.70902863]\n",
      " [ 0.19642476  0.27943855  0.52413669]\n",
      " [ 0.46752551  0.05529561  0.47717887]\n",
      " [ 0.06235261  0.63356717  0.30408022]\n",
      " [ 0.42085985  0.26061153  0.31852862]\n",
      " [ 0.0886218   0.63955793  0.27182027]\n",
      " [ 0.40409327  0.16200797  0.43389876]\n",
      " [ 0.35380404  0.05478559  0.59141037]\n",
      " [ 0.41808231  0.19582486  0.38609282]\n",
      " [ 0.05874281  0.36015042  0.58110678]\n",
      " [ 0.28500219  0.59708713  0.11791067]\n",
      " [ 0.60250008  0.24341836  0.15408156]\n",
      " [ 0.40856023  0.01400676  0.57743301]\n",
      " [ 0.00492953  0.71160348  0.28346699]\n",
      " [ 0.3777712   0.49440979  0.12781901]\n",
      " [ 0.33103907  0.34016578  0.32879515]\n",
      " [ 0.1374539   0.58704549  0.27550061]\n",
      " [ 0.45917498  0.37946608  0.16135894]\n",
      " [ 0.38911504  0.18958806  0.42129691]\n",
      " [ 0.26966464  0.40905547  0.32127989]\n",
      " [ 0.33227966  0.22968481  0.43803553]\n",
      " [ 0.38464664  0.25316289  0.36219047]\n",
      " [ 0.0195661   0.30743403  0.67299987]\n",
      " [ 0.216984    0.46228822  0.32072778]\n",
      " [ 0.13497179  0.29717644  0.56785176]\n",
      " [ 0.32494123  0.31584119  0.35921758]\n",
      " [ 0.32933373  0.21788058  0.45278569]\n",
      " [ 0.21680587  0.25709434  0.52609979]\n",
      " [ 0.50064538  0.43711386  0.06224076]\n",
      " [ 0.34927174  0.27130942  0.37941884]\n",
      " [ 0.12664388  0.73565809  0.13769802]\n",
      " [ 0.38778147  0.07800235  0.53421618]\n",
      " [ 0.45263378  0.31907366  0.22829256]\n",
      " [ 0.05668783  0.57159806  0.37171411]\n",
      " [ 0.2816174   0.33790797  0.38047463]\n",
      " [ 0.69719469  0.00954308  0.29326223]\n",
      " [ 0.51311781  0.12064025  0.36624194]\n",
      " [ 0.19914507  0.7329738   0.06788113]\n",
      " [ 0.58232781  0.16429123  0.25338096]\n",
      " [ 0.55762902  0.42324085  0.01913013]\n",
      " [ 0.12079655  0.45582945  0.42337399]\n",
      " [ 0.13319324  0.52305483  0.34375193]\n",
      " [ 0.28864739  0.31789684  0.39345577]\n",
      " [ 0.33906703  0.43284437  0.2280886 ]\n",
      " [ 0.09956227  0.5049806   0.39545714]\n",
      " [ 0.50446792  0.23391034  0.26162174]\n",
      " [ 0.07215388  0.54015682  0.38768929]\n",
      " [ 0.55543116  0.30130983  0.14325901]\n",
      " [ 0.0319954   0.08718759  0.88081701]\n",
      " [ 0.24043959  0.28436364  0.47519677]\n",
      " [ 0.52950407  0.11596821  0.35452772]\n",
      " [ 0.25262327  0.01981192  0.72756481]\n",
      " [ 0.24772999  0.29684505  0.45542495]\n",
      " [ 0.35626323  0.26963904  0.37409773]\n",
      " [ 0.21757607  0.6347686   0.14765533]\n",
      " [ 0.51341633  0.37045633  0.11612734]\n",
      " [ 0.4903148   0.37825686  0.13142834]\n",
      " [ 0.28172069  0.68438661  0.0338927 ]\n",
      " [ 0.20616597  0.422016    0.37181804]\n",
      " [ 0.34908091  0.20905957  0.44185952]\n",
      " [ 0.57637769  0.07841905  0.34520326]\n",
      " [ 0.10607987  0.57579669  0.31812344]\n",
      " [ 0.63278161  0.2051145   0.1621039 ]\n",
      " [ 0.27355867  0.19932321  0.52711812]\n",
      " [ 0.31654983  0.30965833  0.37379184]\n",
      " [ 0.06837395  0.45258303  0.47904302]\n",
      " [ 0.64347329  0.19542782  0.16109889]\n",
      " [ 0.09586013  0.01570331  0.88843656]\n",
      " [ 0.38571897  0.45206881  0.16221222]\n",
      " [ 0.5162093   0.056299    0.4274917 ]\n",
      " [ 0.44590515  0.39983647  0.15425838]\n",
      " [ 0.44878856  0.10814088  0.44307056]\n",
      " [ 0.39703353  0.33707004  0.26589643]\n",
      " [ 0.43362043  0.14532921  0.42105036]\n",
      " [ 0.63155164  0.01352982  0.35491855]\n",
      " [ 0.09210789  0.61046113  0.29743098]\n",
      " [ 0.33039414  0.4247721   0.24483375]\n",
      " [ 0.11916123  0.71559067  0.1652481 ]\n",
      " [ 0.61347444  0.26913291  0.11739265]\n",
      " [ 0.30837206  0.34797511  0.34365284]]\n"
     ]
    }
   ],
   "source": [
    "B = proclam.classifiers.guess.Guess()\n",
    "prediction = B.classify(3, truth, other=False)\n",
    "print(prediction)"
   ]
  },
  {
   "cell_type": "markdown",
   "metadata": {},
   "source": [
    "## 3. Metric values"
   ]
  },
  {
   "cell_type": "markdown",
   "metadata": {},
   "source": [
    "Import the `proclam.Metric` superclass and the metric subclass you want to test.  I haven't implemented any `Metric` subclasses yet, so we'll have to make do with the base superclass."
   ]
  },
  {
   "cell_type": "code",
   "execution_count": 9,
   "metadata": {
    "collapsed": true
   },
   "outputs": [],
   "source": [
    "from proclam.metrics import metric"
   ]
  },
  {
   "cell_type": "markdown",
   "metadata": {},
   "source": [
    "Create an instantiation of the metric.  The default behavior of the base superclass is to take the maximum probability class as the true class and calculate an accuracy, equally weighting over all catalog members.\n",
    "\n",
    "Then, calculate the metric value."
   ]
  },
  {
   "cell_type": "code",
   "execution_count": 10,
   "metadata": {
    "collapsed": false
   },
   "outputs": [
    {
     "name": "stdout",
     "output_type": "stream",
     "text": [
      "No metric specified: returning true positive rate based on maximum value\n",
      "0.01\n"
     ]
    }
   ],
   "source": [
    "C = proclam.metrics.metric.Metric()\n",
    "performance = C.evaluate(prediction, truth)\n",
    "print(performance)"
   ]
  },
  {
   "cell_type": "markdown",
   "metadata": {},
   "source": [
    "# Next steps"
   ]
  },
  {
   "cell_type": "markdown",
   "metadata": {},
   "source": [
    "Once there are more simulators, classifiers, and metrics, we'll loop over tests and plot comparisons.  Stay tuned for more!"
   ]
  },
  {
   "cell_type": "code",
   "execution_count": null,
   "metadata": {
    "collapsed": true
   },
   "outputs": [],
   "source": []
  }
 ],
 "metadata": {
  "anaconda-cloud": {},
  "kernelspec": {
   "display_name": "Python [python3]",
   "language": "python",
   "name": "Python [python3]"
  },
  "language_info": {
   "codemirror_mode": {
    "name": "ipython",
    "version": 3
   },
   "file_extension": ".py",
   "mimetype": "text/x-python",
   "name": "python",
   "nbconvert_exporter": "python",
   "pygments_lexer": "ipython3",
   "version": "3.5.2"
  }
 },
 "nbformat": 4,
 "nbformat_minor": 2
}
